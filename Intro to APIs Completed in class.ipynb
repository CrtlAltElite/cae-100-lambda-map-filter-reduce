{
 "cells": [
  {
   "cell_type": "markdown",
   "id": "7196054f",
   "metadata": {},
   "source": [
    "# Working with APIs"
   ]
  },
  {
   "cell_type": "markdown",
   "id": "0547b71e",
   "metadata": {},
   "source": [
    "API stands for Application programming interface<br>\n",
    "APIs are a way for applications to talk to eachother<br>\n",
    "In python we use the requests package to handle the connection<br>\n",
    "<small><strong>Note: It is requests with an s not request(this is a different package)</strong></small><br>\n",
    "Most API's communicate with data in the form of JSON<br>\n",
    "JSON stands for JavaScript Object Notation"
   ]
  },
  {
   "cell_type": "code",
   "execution_count": 1,
   "id": "4db9d154",
   "metadata": {},
   "outputs": [],
   "source": [
    "#import the packages we need:\n",
    "import requests"
   ]
  },
  {
   "cell_type": "markdown",
   "id": "e8c2ce51",
   "metadata": {},
   "source": [
    "We will be connecting to the Ergast F1 Racer API today:\n",
    "http://ergast.com/mrd/\n",
    "\n",
    "to view JSON data nicely in the Chrome browser install the extension JSONview"
   ]
  },
  {
   "cell_type": "code",
   "execution_count": 2,
   "id": "52c440c6",
   "metadata": {},
   "outputs": [
    {
     "name": "stdout",
     "output_type": "stream",
     "text": [
      "Help on package requests:\n",
      "\n",
      "NAME\n",
      "    requests\n",
      "\n",
      "DESCRIPTION\n",
      "    Requests HTTP Library\n",
      "    ~~~~~~~~~~~~~~~~~~~~~\n",
      "    \n",
      "    Requests is an HTTP library, written in Python, for human beings.\n",
      "    Basic GET usage:\n",
      "    \n",
      "       >>> import requests\n",
      "       >>> r = requests.get('https://www.python.org')\n",
      "       >>> r.status_code\n",
      "       200\n",
      "       >>> b'Python is a programming language' in r.content\n",
      "       True\n",
      "    \n",
      "    ... or POST:\n",
      "    \n",
      "       >>> payload = dict(key1='value1', key2='value2')\n",
      "       >>> r = requests.post('https://httpbin.org/post', data=payload)\n",
      "       >>> print(r.text)\n",
      "       {\n",
      "         ...\n",
      "         \"form\": {\n",
      "           \"key1\": \"value1\",\n",
      "           \"key2\": \"value2\"\n",
      "         },\n",
      "         ...\n",
      "       }\n",
      "    \n",
      "    The other HTTP methods are supported - see `requests.api`. Full documentation\n",
      "    is at <https://requests.readthedocs.io>.\n",
      "    \n",
      "    :copyright: (c) 2017 by Kenneth Reitz.\n",
      "    :license: Apache 2.0, see LICENSE for more details.\n",
      "\n",
      "PACKAGE CONTENTS\n",
      "    __version__\n",
      "    _internal_utils\n",
      "    adapters\n",
      "    api\n",
      "    auth\n",
      "    certs\n",
      "    compat\n",
      "    cookies\n",
      "    exceptions\n",
      "    help\n",
      "    hooks\n",
      "    models\n",
      "    packages\n",
      "    sessions\n",
      "    status_codes\n",
      "    structures\n",
      "    utils\n",
      "\n",
      "FUNCTIONS\n",
      "    check_compatibility(urllib3_version, chardet_version, charset_normalizer_version)\n",
      "\n",
      "DATA\n",
      "    __author_email__ = 'me@kennethreitz.org'\n",
      "    __build__ = 141057\n",
      "    __cake__ = '✨ 🍰 ✨'\n",
      "    __copyright__ = 'Copyright 2022 Kenneth Reitz'\n",
      "    __description__ = 'Python HTTP for Humans.'\n",
      "    __license__ = 'Apache 2.0'\n",
      "    __title__ = 'requests'\n",
      "    __url__ = 'https://requests.readthedocs.io'\n",
      "    chardet_version = '4.0.0'\n",
      "    charset_normalizer_version = '2.0.12'\n",
      "    codes = <lookup 'status_codes'>\n",
      "\n",
      "VERSION\n",
      "    2.27.1\n",
      "\n",
      "AUTHOR\n",
      "    Kenneth Reitz\n",
      "\n",
      "FILE\n",
      "    /home/fox/.local/lib/python3.10/site-packages/requests/__init__.py\n",
      "\n",
      "\n"
     ]
    }
   ],
   "source": [
    "help(requests)"
   ]
  },
  {
   "cell_type": "code",
   "execution_count": 4,
   "id": "f60c1b4a",
   "metadata": {},
   "outputs": [],
   "source": [
    "url = \"http://ergast.com/api/f1/2008/5/driverStandings.json\""
   ]
  },
  {
   "cell_type": "code",
   "execution_count": 5,
   "id": "7b63a204",
   "metadata": {},
   "outputs": [
    {
     "name": "stdout",
     "output_type": "stream",
     "text": [
      "<Response [200]>\n"
     ]
    }
   ],
   "source": [
    "#response object\n",
    "response = requests.get(url)\n",
    "print(response)"
   ]
  },
  {
   "cell_type": "code",
   "execution_count": 6,
   "id": "c6d1fdaf",
   "metadata": {},
   "outputs": [
    {
     "name": "stdout",
     "output_type": "stream",
     "text": [
      "200\n"
     ]
    }
   ],
   "source": [
    "#check and make sure we got a successful response from the API\n",
    "print(response.status_code)"
   ]
  },
  {
   "cell_type": "code",
   "execution_count": 7,
   "metadata": {},
   "outputs": [
    {
     "data": {
      "text/plain": [
       "True"
      ]
     },
     "execution_count": 7,
     "metadata": {},
     "output_type": "execute_result"
    }
   ],
   "source": [
    "response.status_code == 200"
   ]
  },
  {
   "cell_type": "code",
   "execution_count": 8,
   "metadata": {},
   "outputs": [
    {
     "data": {
      "text/plain": [
       "True"
      ]
     },
     "execution_count": 8,
     "metadata": {},
     "output_type": "execute_result"
    }
   ],
   "source": [
    "response.ok"
   ]
  },
  {
   "cell_type": "code",
   "execution_count": 9,
   "id": "ed4d3256",
   "metadata": {},
   "outputs": [
    {
     "name": "stdout",
     "output_type": "stream",
     "text": [
      "{'MRData': {'xmlns': 'http://ergast.com/mrd/1.5', 'series': 'f1', 'url': 'http://ergast.com/api/f1/2008/5/driverstandings.json', 'limit': '30', 'offset': '0', 'total': '22', 'StandingsTable': {'season': '2008', 'round': '5', 'StandingsLists': [{'season': '2008', 'round': '5', 'DriverStandings': [{'position': '1', 'positionText': '1', 'points': '35', 'wins': '2', 'Driver': {'driverId': 'raikkonen', 'permanentNumber': '7', 'code': 'RAI', 'url': 'http://en.wikipedia.org/wiki/Kimi_R%C3%A4ikk%C3%B6nen', 'givenName': 'Kimi', 'familyName': 'Räikkönen', 'dateOfBirth': '1979-10-17', 'nationality': 'Finnish'}, 'Constructors': [{'constructorId': 'ferrari', 'url': 'http://en.wikipedia.org/wiki/Scuderia_Ferrari', 'name': 'Ferrari', 'nationality': 'Italian'}]}, {'position': '2', 'positionText': '2', 'points': '28', 'wins': '2', 'Driver': {'driverId': 'massa', 'permanentNumber': '19', 'code': 'MAS', 'url': 'http://en.wikipedia.org/wiki/Felipe_Massa', 'givenName': 'Felipe', 'familyName': 'Massa', 'dateOfBirth': '1981-04-25', 'nationality': 'Brazilian'}, 'Constructors': [{'constructorId': 'ferrari', 'url': 'http://en.wikipedia.org/wiki/Scuderia_Ferrari', 'name': 'Ferrari', 'nationality': 'Italian'}]}, {'position': '3', 'positionText': '3', 'points': '28', 'wins': '1', 'Driver': {'driverId': 'hamilton', 'permanentNumber': '44', 'code': 'HAM', 'url': 'http://en.wikipedia.org/wiki/Lewis_Hamilton', 'givenName': 'Lewis', 'familyName': 'Hamilton', 'dateOfBirth': '1985-01-07', 'nationality': 'British'}, 'Constructors': [{'constructorId': 'mclaren', 'url': 'http://en.wikipedia.org/wiki/McLaren', 'name': 'McLaren', 'nationality': 'British'}]}, {'position': '4', 'positionText': '4', 'points': '24', 'wins': '0', 'Driver': {'driverId': 'kubica', 'permanentNumber': '88', 'code': 'KUB', 'url': 'http://en.wikipedia.org/wiki/Robert_Kubica', 'givenName': 'Robert', 'familyName': 'Kubica', 'dateOfBirth': '1984-12-07', 'nationality': 'Polish'}, 'Constructors': [{'constructorId': 'bmw_sauber', 'url': 'http://en.wikipedia.org/wiki/BMW_Sauber', 'name': 'BMW Sauber', 'nationality': 'German'}]}, {'position': '5', 'positionText': '5', 'points': '20', 'wins': '0', 'Driver': {'driverId': 'heidfeld', 'code': 'HEI', 'url': 'http://en.wikipedia.org/wiki/Nick_Heidfeld', 'givenName': 'Nick', 'familyName': 'Heidfeld', 'dateOfBirth': '1977-05-10', 'nationality': 'German'}, 'Constructors': [{'constructorId': 'bmw_sauber', 'url': 'http://en.wikipedia.org/wiki/BMW_Sauber', 'name': 'BMW Sauber', 'nationality': 'German'}]}, {'position': '6', 'positionText': '6', 'points': '14', 'wins': '0', 'Driver': {'driverId': 'kovalainen', 'code': 'KOV', 'url': 'http://en.wikipedia.org/wiki/Heikki_Kovalainen', 'givenName': 'Heikki', 'familyName': 'Kovalainen', 'dateOfBirth': '1981-10-19', 'nationality': 'Finnish'}, 'Constructors': [{'constructorId': 'mclaren', 'url': 'http://en.wikipedia.org/wiki/McLaren', 'name': 'McLaren', 'nationality': 'British'}]}, {'position': '7', 'positionText': '7', 'points': '10', 'wins': '0', 'Driver': {'driverId': 'webber', 'code': 'WEB', 'url': 'http://en.wikipedia.org/wiki/Mark_Webber_(racing_driver)', 'givenName': 'Mark', 'familyName': 'Webber', 'dateOfBirth': '1976-08-27', 'nationality': 'Australian'}, 'Constructors': [{'constructorId': 'red_bull', 'url': 'http://en.wikipedia.org/wiki/Red_Bull_Racing', 'name': 'Red Bull', 'nationality': 'Austrian'}]}, {'position': '8', 'positionText': '8', 'points': '9', 'wins': '0', 'Driver': {'driverId': 'alonso', 'permanentNumber': '14', 'code': 'ALO', 'url': 'http://en.wikipedia.org/wiki/Fernando_Alonso', 'givenName': 'Fernando', 'familyName': 'Alonso', 'dateOfBirth': '1981-07-29', 'nationality': 'Spanish'}, 'Constructors': [{'constructorId': 'renault', 'url': 'http://en.wikipedia.org/wiki/Renault_in_Formula_One', 'name': 'Renault', 'nationality': 'French'}]}, {'position': '9', 'positionText': '9', 'points': '9', 'wins': '0', 'Driver': {'driverId': 'trulli', 'code': 'TRU', 'url': 'http://en.wikipedia.org/wiki/Jarno_Trulli', 'givenName': 'Jarno', 'familyName': 'Trulli', 'dateOfBirth': '1974-07-13', 'nationality': 'Italian'}, 'Constructors': [{'constructorId': 'toyota', 'url': 'http://en.wikipedia.org/wiki/Toyota_Racing', 'name': 'Toyota', 'nationality': 'Japanese'}]}, {'position': '10', 'positionText': '10', 'points': '8', 'wins': '0', 'Driver': {'driverId': 'rosberg', 'permanentNumber': '6', 'code': 'ROS', 'url': 'http://en.wikipedia.org/wiki/Nico_Rosberg', 'givenName': 'Nico', 'familyName': 'Rosberg', 'dateOfBirth': '1985-06-27', 'nationality': 'German'}, 'Constructors': [{'constructorId': 'williams', 'url': 'http://en.wikipedia.org/wiki/Williams_Grand_Prix_Engineering', 'name': 'Williams', 'nationality': 'British'}]}, {'position': '11', 'positionText': '11', 'points': '5', 'wins': '0', 'Driver': {'driverId': 'nakajima', 'code': 'NAK', 'url': 'http://en.wikipedia.org/wiki/Kazuki_Nakajima', 'givenName': 'Kazuki', 'familyName': 'Nakajima', 'dateOfBirth': '1985-01-11', 'nationality': 'Japanese'}, 'Constructors': [{'constructorId': 'williams', 'url': 'http://en.wikipedia.org/wiki/Williams_Grand_Prix_Engineering', 'name': 'Williams', 'nationality': 'British'}]}, {'position': '12', 'positionText': '12', 'points': '3', 'wins': '0', 'Driver': {'driverId': 'button', 'permanentNumber': '22', 'code': 'BUT', 'url': 'http://en.wikipedia.org/wiki/Jenson_Button', 'givenName': 'Jenson', 'familyName': 'Button', 'dateOfBirth': '1980-01-19', 'nationality': 'British'}, 'Constructors': [{'constructorId': 'honda', 'url': 'http://en.wikipedia.org/wiki/Honda_Racing_F1', 'name': 'Honda', 'nationality': 'Japanese'}]}, {'position': '13', 'positionText': '13', 'points': '2', 'wins': '0', 'Driver': {'driverId': 'bourdais', 'code': 'BOU', 'url': 'http://en.wikipedia.org/wiki/S%C3%A9bastien_Bourdais', 'givenName': 'Sébastien', 'familyName': 'Bourdais', 'dateOfBirth': '1979-02-28', 'nationality': 'French'}, 'Constructors': [{'constructorId': 'toro_rosso', 'url': 'http://en.wikipedia.org/wiki/Scuderia_Toro_Rosso', 'name': 'Toro Rosso', 'nationality': 'Italian'}]}, {'position': '14', 'positionText': '14', 'points': '0', 'wins': '0', 'Driver': {'driverId': 'coulthard', 'code': 'COU', 'url': 'http://en.wikipedia.org/wiki/David_Coulthard', 'givenName': 'David', 'familyName': 'Coulthard', 'dateOfBirth': '1971-03-27', 'nationality': 'British'}, 'Constructors': [{'constructorId': 'red_bull', 'url': 'http://en.wikipedia.org/wiki/Red_Bull_Racing', 'name': 'Red Bull', 'nationality': 'Austrian'}]}, {'position': '15', 'positionText': '15', 'points': '0', 'wins': '0', 'Driver': {'driverId': 'glock', 'code': 'GLO', 'url': 'http://en.wikipedia.org/wiki/Timo_Glock', 'givenName': 'Timo', 'familyName': 'Glock', 'dateOfBirth': '1982-03-18', 'nationality': 'German'}, 'Constructors': [{'constructorId': 'toyota', 'url': 'http://en.wikipedia.org/wiki/Toyota_Racing', 'name': 'Toyota', 'nationality': 'Japanese'}]}, {'position': '16', 'positionText': '16', 'points': '0', 'wins': '0', 'Driver': {'driverId': 'fisichella', 'code': 'FIS', 'url': 'http://en.wikipedia.org/wiki/Giancarlo_Fisichella', 'givenName': 'Giancarlo', 'familyName': 'Fisichella', 'dateOfBirth': '1973-01-14', 'nationality': 'Italian'}, 'Constructors': [{'constructorId': 'force_india', 'url': 'http://en.wikipedia.org/wiki/Racing_Point_Force_India', 'name': 'Force India', 'nationality': 'Indian'}]}, {'position': '17', 'positionText': '17', 'points': '0', 'wins': '0', 'Driver': {'driverId': 'barrichello', 'code': 'BAR', 'url': 'http://en.wikipedia.org/wiki/Rubens_Barrichello', 'givenName': 'Rubens', 'familyName': 'Barrichello', 'dateOfBirth': '1972-05-23', 'nationality': 'Brazilian'}, 'Constructors': [{'constructorId': 'honda', 'url': 'http://en.wikipedia.org/wiki/Honda_Racing_F1', 'name': 'Honda', 'nationality': 'Japanese'}]}, {'position': '18', 'positionText': '18', 'points': '0', 'wins': '0', 'Driver': {'driverId': 'piquet_jr', 'code': 'PIQ', 'url': 'http://en.wikipedia.org/wiki/Nelson_Piquet,_Jr.', 'givenName': 'Nelson', 'familyName': 'Piquet Jr.', 'dateOfBirth': '1985-07-25', 'nationality': 'Brazilian'}, 'Constructors': [{'constructorId': 'renault', 'url': 'http://en.wikipedia.org/wiki/Renault_in_Formula_One', 'name': 'Renault', 'nationality': 'French'}]}, {'position': '19', 'positionText': '19', 'points': '0', 'wins': '0', 'Driver': {'driverId': 'sato', 'code': 'SAT', 'url': 'http://en.wikipedia.org/wiki/Takuma_Sato', 'givenName': 'Takuma', 'familyName': 'Sato', 'dateOfBirth': '1977-01-28', 'nationality': 'Japanese'}, 'Constructors': [{'constructorId': 'super_aguri', 'url': 'http://en.wikipedia.org/wiki/Super_Aguri_F1', 'name': 'Super Aguri', 'nationality': 'Japanese'}]}, {'position': '20', 'positionText': '20', 'points': '0', 'wins': '0', 'Driver': {'driverId': 'davidson', 'code': 'DAV', 'url': 'http://en.wikipedia.org/wiki/Anthony_Davidson', 'givenName': 'Anthony', 'familyName': 'Davidson', 'dateOfBirth': '1979-04-18', 'nationality': 'British'}, 'Constructors': [{'constructorId': 'super_aguri', 'url': 'http://en.wikipedia.org/wiki/Super_Aguri_F1', 'name': 'Super Aguri', 'nationality': 'Japanese'}]}, {'position': '21', 'positionText': '21', 'points': '0', 'wins': '0', 'Driver': {'driverId': 'sutil', 'permanentNumber': '99', 'code': 'SUT', 'url': 'http://en.wikipedia.org/wiki/Adrian_Sutil', 'givenName': 'Adrian', 'familyName': 'Sutil', 'dateOfBirth': '1983-01-11', 'nationality': 'German'}, 'Constructors': [{'constructorId': 'force_india', 'url': 'http://en.wikipedia.org/wiki/Racing_Point_Force_India', 'name': 'Force India', 'nationality': 'Indian'}]}, {'position': '22', 'positionText': '22', 'points': '0', 'wins': '0', 'Driver': {'driverId': 'vettel', 'permanentNumber': '5', 'code': 'VET', 'url': 'http://en.wikipedia.org/wiki/Sebastian_Vettel', 'givenName': 'Sebastian', 'familyName': 'Vettel', 'dateOfBirth': '1987-07-03', 'nationality': 'German'}, 'Constructors': [{'constructorId': 'toro_rosso', 'url': 'http://en.wikipedia.org/wiki/Scuderia_Toro_Rosso', 'name': 'Toro Rosso', 'nationality': 'Italian'}]}]}]}}}\n"
     ]
    }
   ],
   "source": [
    "#view the response as a JSON\n",
    "print(response.json())"
   ]
  },
  {
   "cell_type": "code",
   "execution_count": 10,
   "id": "92e6cd2c",
   "metadata": {},
   "outputs": [
    {
     "name": "stdout",
     "output_type": "stream",
     "text": [
      "<class 'dict'>\n"
     ]
    }
   ],
   "source": [
    "print(type(response.json()))"
   ]
  },
  {
   "cell_type": "code",
   "execution_count": 11,
   "id": "f074dfcf",
   "metadata": {},
   "outputs": [
    {
     "name": "stdout",
     "output_type": "stream",
     "text": [
      "[{'position': '1', 'positionText': '1', 'points': '35', 'wins': '2', 'Driver': {'driverId': 'raikkonen', 'permanentNumber': '7', 'code': 'RAI', 'url': 'http://en.wikipedia.org/wiki/Kimi_R%C3%A4ikk%C3%B6nen', 'givenName': 'Kimi', 'familyName': 'Räikkönen', 'dateOfBirth': '1979-10-17', 'nationality': 'Finnish'}, 'Constructors': [{'constructorId': 'ferrari', 'url': 'http://en.wikipedia.org/wiki/Scuderia_Ferrari', 'name': 'Ferrari', 'nationality': 'Italian'}]}, {'position': '2', 'positionText': '2', 'points': '28', 'wins': '2', 'Driver': {'driverId': 'massa', 'permanentNumber': '19', 'code': 'MAS', 'url': 'http://en.wikipedia.org/wiki/Felipe_Massa', 'givenName': 'Felipe', 'familyName': 'Massa', 'dateOfBirth': '1981-04-25', 'nationality': 'Brazilian'}, 'Constructors': [{'constructorId': 'ferrari', 'url': 'http://en.wikipedia.org/wiki/Scuderia_Ferrari', 'name': 'Ferrari', 'nationality': 'Italian'}]}, {'position': '3', 'positionText': '3', 'points': '28', 'wins': '1', 'Driver': {'driverId': 'hamilton', 'permanentNumber': '44', 'code': 'HAM', 'url': 'http://en.wikipedia.org/wiki/Lewis_Hamilton', 'givenName': 'Lewis', 'familyName': 'Hamilton', 'dateOfBirth': '1985-01-07', 'nationality': 'British'}, 'Constructors': [{'constructorId': 'mclaren', 'url': 'http://en.wikipedia.org/wiki/McLaren', 'name': 'McLaren', 'nationality': 'British'}]}, {'position': '4', 'positionText': '4', 'points': '24', 'wins': '0', 'Driver': {'driverId': 'kubica', 'permanentNumber': '88', 'code': 'KUB', 'url': 'http://en.wikipedia.org/wiki/Robert_Kubica', 'givenName': 'Robert', 'familyName': 'Kubica', 'dateOfBirth': '1984-12-07', 'nationality': 'Polish'}, 'Constructors': [{'constructorId': 'bmw_sauber', 'url': 'http://en.wikipedia.org/wiki/BMW_Sauber', 'name': 'BMW Sauber', 'nationality': 'German'}]}, {'position': '5', 'positionText': '5', 'points': '20', 'wins': '0', 'Driver': {'driverId': 'heidfeld', 'code': 'HEI', 'url': 'http://en.wikipedia.org/wiki/Nick_Heidfeld', 'givenName': 'Nick', 'familyName': 'Heidfeld', 'dateOfBirth': '1977-05-10', 'nationality': 'German'}, 'Constructors': [{'constructorId': 'bmw_sauber', 'url': 'http://en.wikipedia.org/wiki/BMW_Sauber', 'name': 'BMW Sauber', 'nationality': 'German'}]}, {'position': '6', 'positionText': '6', 'points': '14', 'wins': '0', 'Driver': {'driverId': 'kovalainen', 'code': 'KOV', 'url': 'http://en.wikipedia.org/wiki/Heikki_Kovalainen', 'givenName': 'Heikki', 'familyName': 'Kovalainen', 'dateOfBirth': '1981-10-19', 'nationality': 'Finnish'}, 'Constructors': [{'constructorId': 'mclaren', 'url': 'http://en.wikipedia.org/wiki/McLaren', 'name': 'McLaren', 'nationality': 'British'}]}, {'position': '7', 'positionText': '7', 'points': '10', 'wins': '0', 'Driver': {'driverId': 'webber', 'code': 'WEB', 'url': 'http://en.wikipedia.org/wiki/Mark_Webber_(racing_driver)', 'givenName': 'Mark', 'familyName': 'Webber', 'dateOfBirth': '1976-08-27', 'nationality': 'Australian'}, 'Constructors': [{'constructorId': 'red_bull', 'url': 'http://en.wikipedia.org/wiki/Red_Bull_Racing', 'name': 'Red Bull', 'nationality': 'Austrian'}]}, {'position': '8', 'positionText': '8', 'points': '9', 'wins': '0', 'Driver': {'driverId': 'alonso', 'permanentNumber': '14', 'code': 'ALO', 'url': 'http://en.wikipedia.org/wiki/Fernando_Alonso', 'givenName': 'Fernando', 'familyName': 'Alonso', 'dateOfBirth': '1981-07-29', 'nationality': 'Spanish'}, 'Constructors': [{'constructorId': 'renault', 'url': 'http://en.wikipedia.org/wiki/Renault_in_Formula_One', 'name': 'Renault', 'nationality': 'French'}]}, {'position': '9', 'positionText': '9', 'points': '9', 'wins': '0', 'Driver': {'driverId': 'trulli', 'code': 'TRU', 'url': 'http://en.wikipedia.org/wiki/Jarno_Trulli', 'givenName': 'Jarno', 'familyName': 'Trulli', 'dateOfBirth': '1974-07-13', 'nationality': 'Italian'}, 'Constructors': [{'constructorId': 'toyota', 'url': 'http://en.wikipedia.org/wiki/Toyota_Racing', 'name': 'Toyota', 'nationality': 'Japanese'}]}, {'position': '10', 'positionText': '10', 'points': '8', 'wins': '0', 'Driver': {'driverId': 'rosberg', 'permanentNumber': '6', 'code': 'ROS', 'url': 'http://en.wikipedia.org/wiki/Nico_Rosberg', 'givenName': 'Nico', 'familyName': 'Rosberg', 'dateOfBirth': '1985-06-27', 'nationality': 'German'}, 'Constructors': [{'constructorId': 'williams', 'url': 'http://en.wikipedia.org/wiki/Williams_Grand_Prix_Engineering', 'name': 'Williams', 'nationality': 'British'}]}, {'position': '11', 'positionText': '11', 'points': '5', 'wins': '0', 'Driver': {'driverId': 'nakajima', 'code': 'NAK', 'url': 'http://en.wikipedia.org/wiki/Kazuki_Nakajima', 'givenName': 'Kazuki', 'familyName': 'Nakajima', 'dateOfBirth': '1985-01-11', 'nationality': 'Japanese'}, 'Constructors': [{'constructorId': 'williams', 'url': 'http://en.wikipedia.org/wiki/Williams_Grand_Prix_Engineering', 'name': 'Williams', 'nationality': 'British'}]}, {'position': '12', 'positionText': '12', 'points': '3', 'wins': '0', 'Driver': {'driverId': 'button', 'permanentNumber': '22', 'code': 'BUT', 'url': 'http://en.wikipedia.org/wiki/Jenson_Button', 'givenName': 'Jenson', 'familyName': 'Button', 'dateOfBirth': '1980-01-19', 'nationality': 'British'}, 'Constructors': [{'constructorId': 'honda', 'url': 'http://en.wikipedia.org/wiki/Honda_Racing_F1', 'name': 'Honda', 'nationality': 'Japanese'}]}, {'position': '13', 'positionText': '13', 'points': '2', 'wins': '0', 'Driver': {'driverId': 'bourdais', 'code': 'BOU', 'url': 'http://en.wikipedia.org/wiki/S%C3%A9bastien_Bourdais', 'givenName': 'Sébastien', 'familyName': 'Bourdais', 'dateOfBirth': '1979-02-28', 'nationality': 'French'}, 'Constructors': [{'constructorId': 'toro_rosso', 'url': 'http://en.wikipedia.org/wiki/Scuderia_Toro_Rosso', 'name': 'Toro Rosso', 'nationality': 'Italian'}]}, {'position': '14', 'positionText': '14', 'points': '0', 'wins': '0', 'Driver': {'driverId': 'coulthard', 'code': 'COU', 'url': 'http://en.wikipedia.org/wiki/David_Coulthard', 'givenName': 'David', 'familyName': 'Coulthard', 'dateOfBirth': '1971-03-27', 'nationality': 'British'}, 'Constructors': [{'constructorId': 'red_bull', 'url': 'http://en.wikipedia.org/wiki/Red_Bull_Racing', 'name': 'Red Bull', 'nationality': 'Austrian'}]}, {'position': '15', 'positionText': '15', 'points': '0', 'wins': '0', 'Driver': {'driverId': 'glock', 'code': 'GLO', 'url': 'http://en.wikipedia.org/wiki/Timo_Glock', 'givenName': 'Timo', 'familyName': 'Glock', 'dateOfBirth': '1982-03-18', 'nationality': 'German'}, 'Constructors': [{'constructorId': 'toyota', 'url': 'http://en.wikipedia.org/wiki/Toyota_Racing', 'name': 'Toyota', 'nationality': 'Japanese'}]}, {'position': '16', 'positionText': '16', 'points': '0', 'wins': '0', 'Driver': {'driverId': 'fisichella', 'code': 'FIS', 'url': 'http://en.wikipedia.org/wiki/Giancarlo_Fisichella', 'givenName': 'Giancarlo', 'familyName': 'Fisichella', 'dateOfBirth': '1973-01-14', 'nationality': 'Italian'}, 'Constructors': [{'constructorId': 'force_india', 'url': 'http://en.wikipedia.org/wiki/Racing_Point_Force_India', 'name': 'Force India', 'nationality': 'Indian'}]}, {'position': '17', 'positionText': '17', 'points': '0', 'wins': '0', 'Driver': {'driverId': 'barrichello', 'code': 'BAR', 'url': 'http://en.wikipedia.org/wiki/Rubens_Barrichello', 'givenName': 'Rubens', 'familyName': 'Barrichello', 'dateOfBirth': '1972-05-23', 'nationality': 'Brazilian'}, 'Constructors': [{'constructorId': 'honda', 'url': 'http://en.wikipedia.org/wiki/Honda_Racing_F1', 'name': 'Honda', 'nationality': 'Japanese'}]}, {'position': '18', 'positionText': '18', 'points': '0', 'wins': '0', 'Driver': {'driverId': 'piquet_jr', 'code': 'PIQ', 'url': 'http://en.wikipedia.org/wiki/Nelson_Piquet,_Jr.', 'givenName': 'Nelson', 'familyName': 'Piquet Jr.', 'dateOfBirth': '1985-07-25', 'nationality': 'Brazilian'}, 'Constructors': [{'constructorId': 'renault', 'url': 'http://en.wikipedia.org/wiki/Renault_in_Formula_One', 'name': 'Renault', 'nationality': 'French'}]}, {'position': '19', 'positionText': '19', 'points': '0', 'wins': '0', 'Driver': {'driverId': 'sato', 'code': 'SAT', 'url': 'http://en.wikipedia.org/wiki/Takuma_Sato', 'givenName': 'Takuma', 'familyName': 'Sato', 'dateOfBirth': '1977-01-28', 'nationality': 'Japanese'}, 'Constructors': [{'constructorId': 'super_aguri', 'url': 'http://en.wikipedia.org/wiki/Super_Aguri_F1', 'name': 'Super Aguri', 'nationality': 'Japanese'}]}, {'position': '20', 'positionText': '20', 'points': '0', 'wins': '0', 'Driver': {'driverId': 'davidson', 'code': 'DAV', 'url': 'http://en.wikipedia.org/wiki/Anthony_Davidson', 'givenName': 'Anthony', 'familyName': 'Davidson', 'dateOfBirth': '1979-04-18', 'nationality': 'British'}, 'Constructors': [{'constructorId': 'super_aguri', 'url': 'http://en.wikipedia.org/wiki/Super_Aguri_F1', 'name': 'Super Aguri', 'nationality': 'Japanese'}]}, {'position': '21', 'positionText': '21', 'points': '0', 'wins': '0', 'Driver': {'driverId': 'sutil', 'permanentNumber': '99', 'code': 'SUT', 'url': 'http://en.wikipedia.org/wiki/Adrian_Sutil', 'givenName': 'Adrian', 'familyName': 'Sutil', 'dateOfBirth': '1983-01-11', 'nationality': 'German'}, 'Constructors': [{'constructorId': 'force_india', 'url': 'http://en.wikipedia.org/wiki/Racing_Point_Force_India', 'name': 'Force India', 'nationality': 'Indian'}]}, {'position': '22', 'positionText': '22', 'points': '0', 'wins': '0', 'Driver': {'driverId': 'vettel', 'permanentNumber': '5', 'code': 'VET', 'url': 'http://en.wikipedia.org/wiki/Sebastian_Vettel', 'givenName': 'Sebastian', 'familyName': 'Vettel', 'dateOfBirth': '1987-07-03', 'nationality': 'German'}, 'Constructors': [{'constructorId': 'toro_rosso', 'url': 'http://en.wikipedia.org/wiki/Scuderia_Toro_Rosso', 'name': 'Toro Rosso', 'nationality': 'Italian'}]}]\n"
     ]
    }
   ],
   "source": [
    "# We only want the Driver Standings\n",
    "data = response.json()[\"MRData\"][\"StandingsTable\"][\"StandingsLists\"][0][\"DriverStandings\"]\n",
    "print(data)"
   ]
  },
  {
   "cell_type": "code",
   "execution_count": 12,
   "id": "be46a950",
   "metadata": {},
   "outputs": [
    {
     "data": {
      "text/plain": [
       "list"
      ]
     },
     "execution_count": 12,
     "metadata": {},
     "output_type": "execute_result"
    }
   ],
   "source": [
    "type(data)"
   ]
  },
  {
   "cell_type": "code",
   "execution_count": 13,
   "id": "3740c752",
   "metadata": {
    "scrolled": false
   },
   "outputs": [
    {
     "data": {
      "text/plain": [
       "{'position': '1',\n",
       " 'positionText': '1',\n",
       " 'points': '35',\n",
       " 'wins': '2',\n",
       " 'Driver': {'driverId': 'raikkonen',\n",
       "  'permanentNumber': '7',\n",
       "  'code': 'RAI',\n",
       "  'url': 'http://en.wikipedia.org/wiki/Kimi_R%C3%A4ikk%C3%B6nen',\n",
       "  'givenName': 'Kimi',\n",
       "  'familyName': 'Räikkönen',\n",
       "  'dateOfBirth': '1979-10-17',\n",
       "  'nationality': 'Finnish'},\n",
       " 'Constructors': [{'constructorId': 'ferrari',\n",
       "   'url': 'http://en.wikipedia.org/wiki/Scuderia_Ferrari',\n",
       "   'name': 'Ferrari',\n",
       "   'nationality': 'Italian'}]}"
      ]
     },
     "execution_count": 13,
     "metadata": {},
     "output_type": "execute_result"
    }
   ],
   "source": [
    "data[0]"
   ]
  },
  {
   "cell_type": "code",
   "execution_count": 14,
   "metadata": {
    "scrolled": true
   },
   "outputs": [
    {
     "name": "stdout",
     "output_type": "stream",
     "text": [
      "[{'last_name': 'Räikkönen', 'first_name': 'Kimi', 'position': '1', 'wins': '2', 'DOB': '1979-10-17', 'nationality': 'Finnish', 'constructor': 'Ferrari'}, {'last_name': 'Massa', 'first_name': 'Felipe', 'position': '2', 'wins': '2', 'DOB': '1981-04-25', 'nationality': 'Brazilian', 'constructor': 'Ferrari'}, {'last_name': 'Hamilton', 'first_name': 'Lewis', 'position': '3', 'wins': '1', 'DOB': '1985-01-07', 'nationality': 'British', 'constructor': 'McLaren'}, {'last_name': 'Kubica', 'first_name': 'Robert', 'position': '4', 'wins': '0', 'DOB': '1984-12-07', 'nationality': 'Polish', 'constructor': 'BMW Sauber'}, {'last_name': 'Heidfeld', 'first_name': 'Nick', 'position': '5', 'wins': '0', 'DOB': '1977-05-10', 'nationality': 'German', 'constructor': 'BMW Sauber'}, {'last_name': 'Kovalainen', 'first_name': 'Heikki', 'position': '6', 'wins': '0', 'DOB': '1981-10-19', 'nationality': 'Finnish', 'constructor': 'McLaren'}, {'last_name': 'Webber', 'first_name': 'Mark', 'position': '7', 'wins': '0', 'DOB': '1976-08-27', 'nationality': 'Australian', 'constructor': 'Red Bull'}, {'last_name': 'Alonso', 'first_name': 'Fernando', 'position': '8', 'wins': '0', 'DOB': '1981-07-29', 'nationality': 'Spanish', 'constructor': 'Renault'}, {'last_name': 'Trulli', 'first_name': 'Jarno', 'position': '9', 'wins': '0', 'DOB': '1974-07-13', 'nationality': 'Italian', 'constructor': 'Toyota'}, {'last_name': 'Rosberg', 'first_name': 'Nico', 'position': '10', 'wins': '0', 'DOB': '1985-06-27', 'nationality': 'German', 'constructor': 'Williams'}, {'last_name': 'Nakajima', 'first_name': 'Kazuki', 'position': '11', 'wins': '0', 'DOB': '1985-01-11', 'nationality': 'Japanese', 'constructor': 'Williams'}, {'last_name': 'Button', 'first_name': 'Jenson', 'position': '12', 'wins': '0', 'DOB': '1980-01-19', 'nationality': 'British', 'constructor': 'Honda'}, {'last_name': 'Bourdais', 'first_name': 'Sébastien', 'position': '13', 'wins': '0', 'DOB': '1979-02-28', 'nationality': 'French', 'constructor': 'Toro Rosso'}, {'last_name': 'Coulthard', 'first_name': 'David', 'position': '14', 'wins': '0', 'DOB': '1971-03-27', 'nationality': 'British', 'constructor': 'Red Bull'}, {'last_name': 'Glock', 'first_name': 'Timo', 'position': '15', 'wins': '0', 'DOB': '1982-03-18', 'nationality': 'German', 'constructor': 'Toyota'}, {'last_name': 'Fisichella', 'first_name': 'Giancarlo', 'position': '16', 'wins': '0', 'DOB': '1973-01-14', 'nationality': 'Italian', 'constructor': 'Force India'}, {'last_name': 'Barrichello', 'first_name': 'Rubens', 'position': '17', 'wins': '0', 'DOB': '1972-05-23', 'nationality': 'Brazilian', 'constructor': 'Honda'}, {'last_name': 'Piquet Jr.', 'first_name': 'Nelson', 'position': '18', 'wins': '0', 'DOB': '1985-07-25', 'nationality': 'Brazilian', 'constructor': 'Renault'}, {'last_name': 'Sato', 'first_name': 'Takuma', 'position': '19', 'wins': '0', 'DOB': '1977-01-28', 'nationality': 'Japanese', 'constructor': 'Super Aguri'}, {'last_name': 'Davidson', 'first_name': 'Anthony', 'position': '20', 'wins': '0', 'DOB': '1979-04-18', 'nationality': 'British', 'constructor': 'Super Aguri'}, {'last_name': 'Sutil', 'first_name': 'Adrian', 'position': '21', 'wins': '0', 'DOB': '1983-01-11', 'nationality': 'German', 'constructor': 'Force India'}, {'last_name': 'Vettel', 'first_name': 'Sebastian', 'position': '22', 'wins': '0', 'DOB': '1987-07-03', 'nationality': 'German', 'constructor': 'Toro Rosso'}]\n"
     ]
    }
   ],
   "source": [
    "def get_racer_info(data):\n",
    "    new_data=[]\n",
    "    for racer in data:\n",
    "        racer_dict = {\n",
    "            \"last_name\":racer['Driver']['familyName'],\n",
    "            \"first_name\":racer['Driver']['givenName'],\n",
    "            \"position\":racer['position'],\n",
    "            \"wins\":racer['wins'],\n",
    "            \"DOB\":racer['Driver']['dateOfBirth'],\n",
    "            \"nationality\":racer['Driver']['nationality'],\n",
    "            \"constructor\":racer['Constructors'][0]['name']\n",
    "        }\n",
    "        new_data.append(racer_dict)\n",
    "    return new_data\n",
    "\n",
    "print(get_racer_info(data))"
   ]
  },
  {
   "cell_type": "code",
   "execution_count": 19,
   "metadata": {},
   "outputs": [
    {
     "name": "stdout",
     "output_type": "stream",
     "text": [
      "empty\n"
     ]
    }
   ],
   "source": [
    "if not []:\n",
    "    print('empty')"
   ]
  },
  {
   "cell_type": "code",
   "execution_count": 20,
   "metadata": {},
   "outputs": [],
   "source": [
    "def get_driver_info_by_year_and_round(year, r):\n",
    "    url = f'http://ergast.com/api/f1/{year}/{r}/driverStandings.json'\n",
    "    response = requests.get(url)\n",
    "    if not response.ok:\n",
    "        return \"We had an unexpected Error\"\n",
    "    data=response.json()\n",
    "    if not data['MRData']['StandingsTable'][\"StandingsLists\"]:\n",
    "        return \"What had an error invalid Year round Combo\"\n",
    "    data = data['MRData']['StandingsTable'][\"StandingsLists\"][0][\"DriverStandings\"]\n",
    "    return get_racer_info(data)\n",
    "    \n",
    "    "
   ]
  },
  {
   "cell_type": "code",
   "execution_count": 21,
   "metadata": {},
   "outputs": [
    {
     "data": {
      "text/plain": [
       "[{'last_name': 'Ascari',\n",
       "  'first_name': 'Alberto',\n",
       "  'position': '1',\n",
       "  'wins': '3',\n",
       "  'DOB': '1918-07-13',\n",
       "  'nationality': 'Italian',\n",
       "  'constructor': 'Ferrari'},\n",
       " {'last_name': 'Taruffi',\n",
       "  'first_name': 'Piero',\n",
       "  'position': '2',\n",
       "  'wins': '1',\n",
       "  'DOB': '1906-10-12',\n",
       "  'nationality': 'Italian',\n",
       "  'constructor': 'Ferrari'},\n",
       " {'last_name': 'Farina',\n",
       "  'first_name': 'Nino',\n",
       "  'position': '3',\n",
       "  'wins': '0',\n",
       "  'DOB': '1906-10-30',\n",
       "  'nationality': 'Italian',\n",
       "  'constructor': 'Ferrari'},\n",
       " {'last_name': 'Ruttman',\n",
       "  'first_name': 'Troy',\n",
       "  'position': '4',\n",
       "  'wins': '1',\n",
       "  'DOB': '1930-03-11',\n",
       "  'nationality': 'American',\n",
       "  'constructor': 'Kuzma'},\n",
       " {'last_name': 'Manzon',\n",
       "  'first_name': 'Robert',\n",
       "  'position': '5',\n",
       "  'wins': '0',\n",
       "  'DOB': '1917-04-12',\n",
       "  'nationality': 'French',\n",
       "  'constructor': 'Gordini'},\n",
       " {'last_name': 'Hawthorn',\n",
       "  'first_name': 'Mike',\n",
       "  'position': '6',\n",
       "  'wins': '0',\n",
       "  'DOB': '1929-04-10',\n",
       "  'nationality': 'British',\n",
       "  'constructor': 'Cooper'},\n",
       " {'last_name': 'Fischer',\n",
       "  'first_name': 'Rudi',\n",
       "  'position': '7',\n",
       "  'wins': '0',\n",
       "  'DOB': '1912-04-19',\n",
       "  'nationality': 'Swiss',\n",
       "  'constructor': 'Ferrari'},\n",
       " {'last_name': 'Rathmann',\n",
       "  'first_name': 'Jim',\n",
       "  'position': '8',\n",
       "  'wins': '0',\n",
       "  'DOB': '1928-07-16',\n",
       "  'nationality': 'American',\n",
       "  'constructor': 'Kurtis Kraft'},\n",
       " {'last_name': 'Behra',\n",
       "  'first_name': 'Jean',\n",
       "  'position': '9',\n",
       "  'wins': '0',\n",
       "  'DOB': '1921-02-16',\n",
       "  'nationality': 'French',\n",
       "  'constructor': 'Gordini'},\n",
       " {'last_name': 'Hanks',\n",
       "  'first_name': 'Sam',\n",
       "  'position': '10',\n",
       "  'wins': '0',\n",
       "  'DOB': '1914-07-13',\n",
       "  'nationality': 'American',\n",
       "  'constructor': 'Kurtis Kraft'},\n",
       " {'last_name': 'Wharton',\n",
       "  'first_name': 'Ken',\n",
       "  'position': '11',\n",
       "  'wins': '0',\n",
       "  'DOB': '1916-03-21',\n",
       "  'nationality': 'British',\n",
       "  'constructor': 'Frazer Nash'},\n",
       " {'last_name': 'Carter',\n",
       "  'first_name': 'Duane',\n",
       "  'position': '12',\n",
       "  'wins': '0',\n",
       "  'DOB': '1913-05-05',\n",
       "  'nationality': 'American',\n",
       "  'constructor': 'Lesovsky'},\n",
       " {'last_name': 'Poore',\n",
       "  'first_name': 'Dennis',\n",
       "  'position': '13',\n",
       "  'wins': '0',\n",
       "  'DOB': '1916-08-19',\n",
       "  'nationality': 'British',\n",
       "  'constructor': 'Connaught'},\n",
       " {'last_name': 'Brown',\n",
       "  'first_name': 'Alan',\n",
       "  'position': '14',\n",
       "  'wins': '0',\n",
       "  'DOB': '1919-11-20',\n",
       "  'nationality': 'British',\n",
       "  'constructor': 'Cooper'},\n",
       " {'last_name': 'Trintignant',\n",
       "  'first_name': 'Maurice',\n",
       "  'position': '15',\n",
       "  'wins': '0',\n",
       "  'DOB': '1917-10-30',\n",
       "  'nationality': 'French',\n",
       "  'constructor': 'Simca'},\n",
       " {'last_name': 'Cross',\n",
       "  'first_name': 'Art',\n",
       "  'position': '16',\n",
       "  'wins': '0',\n",
       "  'DOB': '1918-01-24',\n",
       "  'nationality': 'American',\n",
       "  'constructor': 'Kurtis Kraft'},\n",
       " {'last_name': 'Frère',\n",
       "  'first_name': 'Paul',\n",
       "  'position': '17',\n",
       "  'wins': '0',\n",
       "  'DOB': '1917-01-30',\n",
       "  'nationality': 'Belgian',\n",
       "  'constructor': 'HWM'},\n",
       " {'last_name': 'Thompson',\n",
       "  'first_name': 'Eric',\n",
       "  'position': '18',\n",
       "  'wins': '0',\n",
       "  'DOB': '1919-11-04',\n",
       "  'nationality': 'British',\n",
       "  'constructor': 'Connaught'},\n",
       " {'last_name': 'Vukovich',\n",
       "  'first_name': 'Bill',\n",
       "  'position': '19',\n",
       "  'wins': '0',\n",
       "  'DOB': '1918-12-13',\n",
       "  'nationality': 'American',\n",
       "  'constructor': 'Kurtis Kraft'},\n",
       " {'last_name': 'de Graffenried',\n",
       "  'first_name': 'Toulo',\n",
       "  'position': '20',\n",
       "  'wins': '0',\n",
       "  'DOB': '1914-05-18',\n",
       "  'nationality': 'Swiss',\n",
       "  'constructor': 'Maserati'},\n",
       " {'last_name': 'Collins',\n",
       "  'first_name': 'Peter',\n",
       "  'position': '21',\n",
       "  'wins': '0',\n",
       "  'DOB': '1931-11-06',\n",
       "  'nationality': 'British',\n",
       "  'constructor': 'HWM'},\n",
       " {'last_name': 'Bryan',\n",
       "  'first_name': 'Jimmy',\n",
       "  'position': '22',\n",
       "  'wins': '0',\n",
       "  'DOB': '1926-01-28',\n",
       "  'nationality': 'American',\n",
       "  'constructor': 'Kurtis Kraft'},\n",
       " {'last_name': 'Hirt',\n",
       "  'first_name': 'Peter',\n",
       "  'position': '23',\n",
       "  'wins': '0',\n",
       "  'DOB': '1910-03-30',\n",
       "  'nationality': 'Swiss',\n",
       "  'constructor': 'Ferrari'},\n",
       " {'last_name': 'de Tornaco',\n",
       "  'first_name': 'Charles',\n",
       "  'position': '24',\n",
       "  'wins': '0',\n",
       "  'DOB': '1927-06-07',\n",
       "  'nationality': 'Belgian',\n",
       "  'constructor': 'Ferrari'},\n",
       " {'last_name': 'Parnell',\n",
       "  'first_name': 'Reg',\n",
       "  'position': '25',\n",
       "  'wins': '0',\n",
       "  'DOB': '1911-07-02',\n",
       "  'nationality': 'British',\n",
       "  'constructor': 'Cooper'},\n",
       " {'last_name': 'Reece',\n",
       "  'first_name': 'Jimmy',\n",
       "  'position': '26',\n",
       "  'wins': '0',\n",
       "  'DOB': '1929-11-17',\n",
       "  'nationality': 'American',\n",
       "  'constructor': 'Kurtis Kraft'},\n",
       " {'last_name': 'Brandon',\n",
       "  'first_name': 'Eric',\n",
       "  'position': '27',\n",
       "  'wins': '0',\n",
       "  'DOB': '1920-07-18',\n",
       "  'nationality': 'British',\n",
       "  'constructor': 'Cooper'},\n",
       " {'last_name': 'Claes',\n",
       "  'first_name': 'Johnny',\n",
       "  'position': '28',\n",
       "  'wins': '0',\n",
       "  'DOB': '1916-08-11',\n",
       "  'nationality': 'Belgian',\n",
       "  'constructor': 'Gordini'},\n",
       " {'last_name': 'Étancelin',\n",
       "  'first_name': 'Philippe',\n",
       "  'position': '29',\n",
       "  'wins': '0',\n",
       "  'DOB': '1896-12-28',\n",
       "  'nationality': 'French',\n",
       "  'constructor': 'Maserati'},\n",
       " {'last_name': 'Connor',\n",
       "  'first_name': 'George',\n",
       "  'position': '30',\n",
       "  'wins': '0',\n",
       "  'DOB': '1906-08-16',\n",
       "  'nationality': 'American',\n",
       "  'constructor': 'Kurtis Kraft'}]"
      ]
     },
     "execution_count": 21,
     "metadata": {},
     "output_type": "execute_result"
    }
   ],
   "source": [
    "get_driver_info_by_year_and_round(1952,5)"
   ]
  },
  {
   "cell_type": "code",
   "execution_count": 22,
   "metadata": {},
   "outputs": [
    {
     "data": {
      "text/plain": [
       "[{'last_name': 'Verstappen',\n",
       "  'first_name': 'Max',\n",
       "  'position': '1',\n",
       "  'wins': '4',\n",
       "  'DOB': '1997-09-30',\n",
       "  'nationality': 'Dutch',\n",
       "  'constructor': 'Red Bull'},\n",
       " {'last_name': 'Leclerc',\n",
       "  'first_name': 'Charles',\n",
       "  'position': '2',\n",
       "  'wins': '2',\n",
       "  'DOB': '1997-10-16',\n",
       "  'nationality': 'Monegasque',\n",
       "  'constructor': 'Ferrari'},\n",
       " {'last_name': 'Pérez',\n",
       "  'first_name': 'Sergio',\n",
       "  'position': '3',\n",
       "  'wins': '0',\n",
       "  'DOB': '1990-01-26',\n",
       "  'nationality': 'Mexican',\n",
       "  'constructor': 'Red Bull'},\n",
       " {'last_name': 'Russell',\n",
       "  'first_name': 'George',\n",
       "  'position': '4',\n",
       "  'wins': '0',\n",
       "  'DOB': '1998-02-15',\n",
       "  'nationality': 'British',\n",
       "  'constructor': 'Mercedes'},\n",
       " {'last_name': 'Sainz',\n",
       "  'first_name': 'Carlos',\n",
       "  'position': '5',\n",
       "  'wins': '0',\n",
       "  'DOB': '1994-09-01',\n",
       "  'nationality': 'Spanish',\n",
       "  'constructor': 'Ferrari'},\n",
       " {'last_name': 'Hamilton',\n",
       "  'first_name': 'Lewis',\n",
       "  'position': '6',\n",
       "  'wins': '0',\n",
       "  'DOB': '1985-01-07',\n",
       "  'nationality': 'British',\n",
       "  'constructor': 'Mercedes'},\n",
       " {'last_name': 'Norris',\n",
       "  'first_name': 'Lando',\n",
       "  'position': '7',\n",
       "  'wins': '0',\n",
       "  'DOB': '1999-11-13',\n",
       "  'nationality': 'British',\n",
       "  'constructor': 'McLaren'},\n",
       " {'last_name': 'Bottas',\n",
       "  'first_name': 'Valtteri',\n",
       "  'position': '8',\n",
       "  'wins': '0',\n",
       "  'DOB': '1989-08-28',\n",
       "  'nationality': 'Finnish',\n",
       "  'constructor': 'Alfa Romeo'},\n",
       " {'last_name': 'Ocon',\n",
       "  'first_name': 'Esteban',\n",
       "  'position': '9',\n",
       "  'wins': '0',\n",
       "  'DOB': '1996-09-17',\n",
       "  'nationality': 'French',\n",
       "  'constructor': 'Alpine F1 Team'},\n",
       " {'last_name': 'Magnussen',\n",
       "  'first_name': 'Kevin',\n",
       "  'position': '10',\n",
       "  'wins': '0',\n",
       "  'DOB': '1992-10-05',\n",
       "  'nationality': 'Danish',\n",
       "  'constructor': 'Haas F1 Team'},\n",
       " {'last_name': 'Tsunoda',\n",
       "  'first_name': 'Yuki',\n",
       "  'position': '11',\n",
       "  'wins': '0',\n",
       "  'DOB': '2000-05-11',\n",
       "  'nationality': 'Japanese',\n",
       "  'constructor': 'AlphaTauri'},\n",
       " {'last_name': 'Ricciardo',\n",
       "  'first_name': 'Daniel',\n",
       "  'position': '12',\n",
       "  'wins': '0',\n",
       "  'DOB': '1989-07-01',\n",
       "  'nationality': 'Australian',\n",
       "  'constructor': 'McLaren'},\n",
       " {'last_name': 'Gasly',\n",
       "  'first_name': 'Pierre',\n",
       "  'position': '13',\n",
       "  'wins': '0',\n",
       "  'DOB': '1996-02-07',\n",
       "  'nationality': 'French',\n",
       "  'constructor': 'AlphaTauri'},\n",
       " {'last_name': 'Vettel',\n",
       "  'first_name': 'Sebastian',\n",
       "  'position': '14',\n",
       "  'wins': '0',\n",
       "  'DOB': '1987-07-03',\n",
       "  'nationality': 'German',\n",
       "  'constructor': 'Aston Martin'},\n",
       " {'last_name': 'Alonso',\n",
       "  'first_name': 'Fernando',\n",
       "  'position': '15',\n",
       "  'wins': '0',\n",
       "  'DOB': '1981-07-29',\n",
       "  'nationality': 'Spanish',\n",
       "  'constructor': 'Alpine F1 Team'},\n",
       " {'last_name': 'Albon',\n",
       "  'first_name': 'Alexander',\n",
       "  'position': '16',\n",
       "  'wins': '0',\n",
       "  'DOB': '1996-03-23',\n",
       "  'nationality': 'Thai',\n",
       "  'constructor': 'Williams'},\n",
       " {'last_name': 'Stroll',\n",
       "  'first_name': 'Lance',\n",
       "  'position': '17',\n",
       "  'wins': '0',\n",
       "  'DOB': '1998-10-29',\n",
       "  'nationality': 'Canadian',\n",
       "  'constructor': 'Aston Martin'},\n",
       " {'last_name': 'Zhou',\n",
       "  'first_name': 'Guanyu',\n",
       "  'position': '18',\n",
       "  'wins': '0',\n",
       "  'DOB': '1999-05-30',\n",
       "  'nationality': 'Chinese',\n",
       "  'constructor': 'Alfa Romeo'},\n",
       " {'last_name': 'Schumacher',\n",
       "  'first_name': 'Mick',\n",
       "  'position': '19',\n",
       "  'wins': '0',\n",
       "  'DOB': '1999-03-22',\n",
       "  'nationality': 'German',\n",
       "  'constructor': 'Haas F1 Team'},\n",
       " {'last_name': 'Hülkenberg',\n",
       "  'first_name': 'Nico',\n",
       "  'position': '20',\n",
       "  'wins': '0',\n",
       "  'DOB': '1987-08-19',\n",
       "  'nationality': 'German',\n",
       "  'constructor': 'Aston Martin'},\n",
       " {'last_name': 'Latifi',\n",
       "  'first_name': 'Nicholas',\n",
       "  'position': '21',\n",
       "  'wins': '0',\n",
       "  'DOB': '1995-06-29',\n",
       "  'nationality': 'Canadian',\n",
       "  'constructor': 'Williams'}]"
      ]
     },
     "execution_count": 22,
     "metadata": {},
     "output_type": "execute_result"
    }
   ],
   "source": [
    "get_driver_info_by_year_and_round(2022,6)"
   ]
  },
  {
   "cell_type": "code",
   "execution_count": 23,
   "metadata": {},
   "outputs": [
    {
     "data": {
      "text/plain": [
       "'What had an error invalid Year round Combo'"
      ]
     },
     "execution_count": 23,
     "metadata": {},
     "output_type": "execute_result"
    }
   ],
   "source": [
    "get_driver_info_by_year_and_round(2066,6)"
   ]
  },
  {
   "cell_type": "code",
   "execution_count": 24,
   "metadata": {},
   "outputs": [
    {
     "data": {
      "text/plain": [
       "'We had an unexpected Error'"
      ]
     },
     "execution_count": 24,
     "metadata": {},
     "output_type": "execute_result"
    }
   ],
   "source": [
    "get_driver_info_by_year_and_round(\"wtf\",6)"
   ]
  },
  {
   "cell_type": "markdown",
   "id": "6d546014",
   "metadata": {},
   "source": [
    "# <strong>Homework</strong>\n",
    "check out this Pokemon API https://pokeapi.co/\n",
    "Use the requests package to connect to this API and get and store data for 5 different pokemon.\n",
    "Get the pokemons: name, atleast one ability's name, base_experience, and the URL for its sprite (an image that shows up on screen) for the 'front_shiny', attack base_state, hp base_stat, defense base_stat"
   ]
  },
  {
   "cell_type": "code",
   "execution_count": null,
   "id": "5a9081e3",
   "metadata": {},
   "outputs": [],
   "source": []
  }
 ],
 "metadata": {
  "kernelspec": {
   "display_name": "Python 3",
   "language": "python",
   "name": "python3"
  },
  "language_info": {
   "codemirror_mode": {
    "name": "ipython",
    "version": 3
   },
   "file_extension": ".py",
   "mimetype": "text/x-python",
   "name": "python",
   "nbconvert_exporter": "python",
   "pygments_lexer": "ipython3",
   "version": "3.10.5"
  }
 },
 "nbformat": 4,
 "nbformat_minor": 5
}
